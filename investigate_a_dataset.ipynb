{
 "cells": [
  {
   "cell_type": "markdown",
   "id": "329a1271",
   "metadata": {},
   "source": [
    "## INTRODUCTION\n",
    "### Data Description\n",
    "\n",
    "> This dataset is a no show appointment dataset which collects information from 100 thousand medical appointments in Brazil. The main purpose of the dataset is to know if patients showed up for thier appointments or not. There are some important information included in the dataset , such as appointment day, schedule day, if they are on scholarship(if they are enrolled in Brasilain wellfare program ) and others.\n",
    "\n",
    "### Question(s) for Analysis\n",
    "\n",
    "> Below are some questions I intend to find answer to when analysing the dataset\n",
    "- Are there more patients enrolled in the brasilian wellfare (that is are they on scholarship)?\n",
    "- Are there more patients suffering from hypertension?\n",
    "- Are there more patients sufferering from diabetes?\n",
    "- Are there more patients who are handicaped? \n",
    "- Are there more patients taking alcohol?\n",
    "- Are there more patients who are handicaped?\n",
    "- Are there more patients who recieved an SMS?\n",
    "- Are there more patients who showed up for their appointment? \n",
    "- Whichs days of the week and which month did the patients showed up more ? \n",
    "- Is showing up for appointment dependent on sending SMS? \n",
    "- Which hospital do patients visit the  most for thier appointments?\n",
    "- Which days do patients on scholarship showed up the least for thier appointments?\n",
    "- Which age category showed up for thier appointments the most?\n",
    "- Is showing up for appointment depedent on gender?\n",
    "- What's the percentage of patients who scheduled and showed up for thier appointments on the same day?"
   ]
  },
  {
   "cell_type": "code",
   "execution_count": 39,
   "id": "579fa648",
   "metadata": {},
   "outputs": [],
   "source": [
    "# Importing the neccessary python Libaries\n",
    "import pandas as pd\n",
    "import numpy as np\n",
    "import matplotlib.pyplot as plt\n",
    "%matplotlib inline\n",
    "import seaborn as sns"
   ]
  },
  {
   "cell_type": "markdown",
   "id": "176ee556",
   "metadata": {},
   "source": [
    "## Data Wrangling\n",
    "\n",
    "> I will make use of the folowing data cleaning steps.\n",
    "\n",
    "- Load the dataset using Pandas and read a few lines: This is to have an overview of the dataset.\n",
    "- Get the information about the dataset: This is to check if there are any errors in the data types.\n",
    "- Get the shape of the dataset: This is to know the number of rows and columns in the dataset.\n",
    "- Check for duplicated rows\n",
    "- Check for empyty columns"
   ]
  },
  {
   "cell_type": "code",
   "execution_count": 40,
   "id": "c0d678bd",
   "metadata": {},
   "outputs": [
    {
     "data": {
      "text/html": [
       "<div>\n",
       "<style scoped>\n",
       "    .dataframe tbody tr th:only-of-type {\n",
       "        vertical-align: middle;\n",
       "    }\n",
       "\n",
       "    .dataframe tbody tr th {\n",
       "        vertical-align: top;\n",
       "    }\n",
       "\n",
       "    .dataframe thead th {\n",
       "        text-align: right;\n",
       "    }\n",
       "</style>\n",
       "<table border=\"1\" class=\"dataframe\">\n",
       "  <thead>\n",
       "    <tr style=\"text-align: right;\">\n",
       "      <th></th>\n",
       "      <th>PatientId</th>\n",
       "      <th>AppointmentID</th>\n",
       "      <th>Gender</th>\n",
       "      <th>ScheduledDay</th>\n",
       "      <th>AppointmentDay</th>\n",
       "      <th>Age</th>\n",
       "      <th>Neighbourhood</th>\n",
       "      <th>Scholarship</th>\n",
       "      <th>Hipertension</th>\n",
       "      <th>Diabetes</th>\n",
       "      <th>Alcoholism</th>\n",
       "      <th>Handcap</th>\n",
       "      <th>SMS_received</th>\n",
       "      <th>No-show</th>\n",
       "    </tr>\n",
       "  </thead>\n",
       "  <tbody>\n",
       "    <tr>\n",
       "      <th>0</th>\n",
       "      <td>2.987250e+13</td>\n",
       "      <td>5642903</td>\n",
       "      <td>F</td>\n",
       "      <td>2016-04-29T18:38:08Z</td>\n",
       "      <td>2016-04-29T00:00:00Z</td>\n",
       "      <td>62</td>\n",
       "      <td>JARDIM DA PENHA</td>\n",
       "      <td>0</td>\n",
       "      <td>1</td>\n",
       "      <td>0</td>\n",
       "      <td>0</td>\n",
       "      <td>0</td>\n",
       "      <td>0</td>\n",
       "      <td>No</td>\n",
       "    </tr>\n",
       "    <tr>\n",
       "      <th>1</th>\n",
       "      <td>5.589978e+14</td>\n",
       "      <td>5642503</td>\n",
       "      <td>M</td>\n",
       "      <td>2016-04-29T16:08:27Z</td>\n",
       "      <td>2016-04-29T00:00:00Z</td>\n",
       "      <td>56</td>\n",
       "      <td>JARDIM DA PENHA</td>\n",
       "      <td>0</td>\n",
       "      <td>0</td>\n",
       "      <td>0</td>\n",
       "      <td>0</td>\n",
       "      <td>0</td>\n",
       "      <td>0</td>\n",
       "      <td>No</td>\n",
       "    </tr>\n",
       "    <tr>\n",
       "      <th>2</th>\n",
       "      <td>4.262962e+12</td>\n",
       "      <td>5642549</td>\n",
       "      <td>F</td>\n",
       "      <td>2016-04-29T16:19:04Z</td>\n",
       "      <td>2016-04-29T00:00:00Z</td>\n",
       "      <td>62</td>\n",
       "      <td>MATA DA PRAIA</td>\n",
       "      <td>0</td>\n",
       "      <td>0</td>\n",
       "      <td>0</td>\n",
       "      <td>0</td>\n",
       "      <td>0</td>\n",
       "      <td>0</td>\n",
       "      <td>No</td>\n",
       "    </tr>\n",
       "    <tr>\n",
       "      <th>3</th>\n",
       "      <td>8.679512e+11</td>\n",
       "      <td>5642828</td>\n",
       "      <td>F</td>\n",
       "      <td>2016-04-29T17:29:31Z</td>\n",
       "      <td>2016-04-29T00:00:00Z</td>\n",
       "      <td>8</td>\n",
       "      <td>PONTAL DE CAMBURI</td>\n",
       "      <td>0</td>\n",
       "      <td>0</td>\n",
       "      <td>0</td>\n",
       "      <td>0</td>\n",
       "      <td>0</td>\n",
       "      <td>0</td>\n",
       "      <td>No</td>\n",
       "    </tr>\n",
       "    <tr>\n",
       "      <th>4</th>\n",
       "      <td>8.841186e+12</td>\n",
       "      <td>5642494</td>\n",
       "      <td>F</td>\n",
       "      <td>2016-04-29T16:07:23Z</td>\n",
       "      <td>2016-04-29T00:00:00Z</td>\n",
       "      <td>56</td>\n",
       "      <td>JARDIM DA PENHA</td>\n",
       "      <td>0</td>\n",
       "      <td>1</td>\n",
       "      <td>1</td>\n",
       "      <td>0</td>\n",
       "      <td>0</td>\n",
       "      <td>0</td>\n",
       "      <td>No</td>\n",
       "    </tr>\n",
       "  </tbody>\n",
       "</table>\n",
       "</div>"
      ],
      "text/plain": [
       "      PatientId  AppointmentID Gender          ScheduledDay  \\\n",
       "0  2.987250e+13        5642903      F  2016-04-29T18:38:08Z   \n",
       "1  5.589978e+14        5642503      M  2016-04-29T16:08:27Z   \n",
       "2  4.262962e+12        5642549      F  2016-04-29T16:19:04Z   \n",
       "3  8.679512e+11        5642828      F  2016-04-29T17:29:31Z   \n",
       "4  8.841186e+12        5642494      F  2016-04-29T16:07:23Z   \n",
       "\n",
       "         AppointmentDay  Age      Neighbourhood  Scholarship  Hipertension  \\\n",
       "0  2016-04-29T00:00:00Z   62    JARDIM DA PENHA            0             1   \n",
       "1  2016-04-29T00:00:00Z   56    JARDIM DA PENHA            0             0   \n",
       "2  2016-04-29T00:00:00Z   62      MATA DA PRAIA            0             0   \n",
       "3  2016-04-29T00:00:00Z    8  PONTAL DE CAMBURI            0             0   \n",
       "4  2016-04-29T00:00:00Z   56    JARDIM DA PENHA            0             1   \n",
       "\n",
       "   Diabetes  Alcoholism  Handcap  SMS_received No-show  \n",
       "0         0           0        0             0      No  \n",
       "1         0           0        0             0      No  \n",
       "2         0           0        0             0      No  \n",
       "3         0           0        0             0      No  \n",
       "4         1           0        0             0      No  "
      ]
     },
     "execution_count": 40,
     "metadata": {},
     "output_type": "execute_result"
    }
   ],
   "source": [
    "# Loading the dataset using pandas and reading few lines.\n",
    "df = pd.read_csv(\"noshowappointments-kagglev2-may-2016.csv\")\n",
    "df.head()"
   ]
  },
  {
   "cell_type": "markdown",
   "id": "efa2ca75",
   "metadata": {},
   "source": [
    "> This dataset contains the patient ID, appointment ID, gender and other vital information about each patient such as ,if the patient is suffering from hypertension, diabetes,alcoholism, or the patient is handicapped."
   ]
  },
  {
   "cell_type": "code",
   "execution_count": 41,
   "id": "af6e0a6d",
   "metadata": {},
   "outputs": [
    {
     "name": "stdout",
     "output_type": "stream",
     "text": [
      "<class 'pandas.core.frame.DataFrame'>\n",
      "RangeIndex: 110527 entries, 0 to 110526\n",
      "Data columns (total 14 columns):\n",
      " #   Column          Non-Null Count   Dtype  \n",
      "---  ------          --------------   -----  \n",
      " 0   PatientId       110527 non-null  float64\n",
      " 1   AppointmentID   110527 non-null  int64  \n",
      " 2   Gender          110527 non-null  object \n",
      " 3   ScheduledDay    110527 non-null  object \n",
      " 4   AppointmentDay  110527 non-null  object \n",
      " 5   Age             110527 non-null  int64  \n",
      " 6   Neighbourhood   110527 non-null  object \n",
      " 7   Scholarship     110527 non-null  int64  \n",
      " 8   Hipertension    110527 non-null  int64  \n",
      " 9   Diabetes        110527 non-null  int64  \n",
      " 10  Alcoholism      110527 non-null  int64  \n",
      " 11  Handcap         110527 non-null  int64  \n",
      " 12  SMS_received    110527 non-null  int64  \n",
      " 13  No-show         110527 non-null  object \n",
      "dtypes: float64(1), int64(8), object(5)\n",
      "memory usage: 11.8+ MB\n"
     ]
    }
   ],
   "source": [
    "# Getting information about the dataset\n",
    "df.info()"
   ]
  },
  {
   "cell_type": "markdown",
   "id": "e05c3c84",
   "metadata": {},
   "source": [
    "> All the data types are appropiate expect for the ScheduledDay and AppointmentDay columns.\n",
    "There are no errors in the following columns: Scholarship, Hipertension, Diabetes, Alcholism, Handcap, and SMS_recieved because 1 represents yes and 0 represents No."
   ]
  },
  {
   "cell_type": "code",
   "execution_count": 42,
   "id": "9cf894f1",
   "metadata": {},
   "outputs": [
    {
     "data": {
      "text/plain": [
       "(110527, 14)"
      ]
     },
     "execution_count": 42,
     "metadata": {},
     "output_type": "execute_result"
    }
   ],
   "source": [
    "# Getting the shape of the data, that is the number of rows and columns.\n",
    "df.shape"
   ]
  },
  {
   "cell_type": "markdown",
   "id": "bcb2c903",
   "metadata": {},
   "source": [
    "> The total number of samples(i.e number of patients) collected was 110,527 and there are 14 columns. "
   ]
  },
  {
   "cell_type": "code",
   "execution_count": 43,
   "id": "48982827",
   "metadata": {},
   "outputs": [
    {
     "data": {
      "text/plain": [
       "0"
      ]
     },
     "execution_count": 43,
     "metadata": {},
     "output_type": "execute_result"
    }
   ],
   "source": [
    "# Checking if there are duplicated rows\n",
    "df.duplicated().sum()"
   ]
  },
  {
   "cell_type": "markdown",
   "id": "939a9cab",
   "metadata": {},
   "source": [
    "> There are no duplicated rows in the dataset"
   ]
  },
  {
   "cell_type": "code",
   "execution_count": 44,
   "id": "d4de8609",
   "metadata": {},
   "outputs": [
    {
     "data": {
      "text/html": [
       "<div>\n",
       "<style scoped>\n",
       "    .dataframe tbody tr th:only-of-type {\n",
       "        vertical-align: middle;\n",
       "    }\n",
       "\n",
       "    .dataframe tbody tr th {\n",
       "        vertical-align: top;\n",
       "    }\n",
       "\n",
       "    .dataframe thead th {\n",
       "        text-align: right;\n",
       "    }\n",
       "</style>\n",
       "<table border=\"1\" class=\"dataframe\">\n",
       "  <thead>\n",
       "    <tr style=\"text-align: right;\">\n",
       "      <th></th>\n",
       "      <th>PatientId</th>\n",
       "      <th>AppointmentID</th>\n",
       "      <th>Age</th>\n",
       "      <th>Scholarship</th>\n",
       "      <th>Hipertension</th>\n",
       "      <th>Diabetes</th>\n",
       "      <th>Alcoholism</th>\n",
       "      <th>Handcap</th>\n",
       "      <th>SMS_received</th>\n",
       "    </tr>\n",
       "  </thead>\n",
       "  <tbody>\n",
       "    <tr>\n",
       "      <th>count</th>\n",
       "      <td>1.105270e+05</td>\n",
       "      <td>1.105270e+05</td>\n",
       "      <td>110527.000000</td>\n",
       "      <td>110527.000000</td>\n",
       "      <td>110527.000000</td>\n",
       "      <td>110527.000000</td>\n",
       "      <td>110527.000000</td>\n",
       "      <td>110527.000000</td>\n",
       "      <td>110527.000000</td>\n",
       "    </tr>\n",
       "    <tr>\n",
       "      <th>mean</th>\n",
       "      <td>1.474963e+14</td>\n",
       "      <td>5.675305e+06</td>\n",
       "      <td>37.088874</td>\n",
       "      <td>0.098266</td>\n",
       "      <td>0.197246</td>\n",
       "      <td>0.071865</td>\n",
       "      <td>0.030400</td>\n",
       "      <td>0.022248</td>\n",
       "      <td>0.321026</td>\n",
       "    </tr>\n",
       "    <tr>\n",
       "      <th>std</th>\n",
       "      <td>2.560949e+14</td>\n",
       "      <td>7.129575e+04</td>\n",
       "      <td>23.110205</td>\n",
       "      <td>0.297675</td>\n",
       "      <td>0.397921</td>\n",
       "      <td>0.258265</td>\n",
       "      <td>0.171686</td>\n",
       "      <td>0.161543</td>\n",
       "      <td>0.466873</td>\n",
       "    </tr>\n",
       "    <tr>\n",
       "      <th>min</th>\n",
       "      <td>3.921784e+04</td>\n",
       "      <td>5.030230e+06</td>\n",
       "      <td>-1.000000</td>\n",
       "      <td>0.000000</td>\n",
       "      <td>0.000000</td>\n",
       "      <td>0.000000</td>\n",
       "      <td>0.000000</td>\n",
       "      <td>0.000000</td>\n",
       "      <td>0.000000</td>\n",
       "    </tr>\n",
       "    <tr>\n",
       "      <th>25%</th>\n",
       "      <td>4.172614e+12</td>\n",
       "      <td>5.640286e+06</td>\n",
       "      <td>18.000000</td>\n",
       "      <td>0.000000</td>\n",
       "      <td>0.000000</td>\n",
       "      <td>0.000000</td>\n",
       "      <td>0.000000</td>\n",
       "      <td>0.000000</td>\n",
       "      <td>0.000000</td>\n",
       "    </tr>\n",
       "    <tr>\n",
       "      <th>50%</th>\n",
       "      <td>3.173184e+13</td>\n",
       "      <td>5.680573e+06</td>\n",
       "      <td>37.000000</td>\n",
       "      <td>0.000000</td>\n",
       "      <td>0.000000</td>\n",
       "      <td>0.000000</td>\n",
       "      <td>0.000000</td>\n",
       "      <td>0.000000</td>\n",
       "      <td>0.000000</td>\n",
       "    </tr>\n",
       "    <tr>\n",
       "      <th>75%</th>\n",
       "      <td>9.439172e+13</td>\n",
       "      <td>5.725524e+06</td>\n",
       "      <td>55.000000</td>\n",
       "      <td>0.000000</td>\n",
       "      <td>0.000000</td>\n",
       "      <td>0.000000</td>\n",
       "      <td>0.000000</td>\n",
       "      <td>0.000000</td>\n",
       "      <td>1.000000</td>\n",
       "    </tr>\n",
       "    <tr>\n",
       "      <th>max</th>\n",
       "      <td>9.999816e+14</td>\n",
       "      <td>5.790484e+06</td>\n",
       "      <td>115.000000</td>\n",
       "      <td>1.000000</td>\n",
       "      <td>1.000000</td>\n",
       "      <td>1.000000</td>\n",
       "      <td>1.000000</td>\n",
       "      <td>4.000000</td>\n",
       "      <td>1.000000</td>\n",
       "    </tr>\n",
       "  </tbody>\n",
       "</table>\n",
       "</div>"
      ],
      "text/plain": [
       "          PatientId  AppointmentID            Age    Scholarship  \\\n",
       "count  1.105270e+05   1.105270e+05  110527.000000  110527.000000   \n",
       "mean   1.474963e+14   5.675305e+06      37.088874       0.098266   \n",
       "std    2.560949e+14   7.129575e+04      23.110205       0.297675   \n",
       "min    3.921784e+04   5.030230e+06      -1.000000       0.000000   \n",
       "25%    4.172614e+12   5.640286e+06      18.000000       0.000000   \n",
       "50%    3.173184e+13   5.680573e+06      37.000000       0.000000   \n",
       "75%    9.439172e+13   5.725524e+06      55.000000       0.000000   \n",
       "max    9.999816e+14   5.790484e+06     115.000000       1.000000   \n",
       "\n",
       "        Hipertension       Diabetes     Alcoholism        Handcap  \\\n",
       "count  110527.000000  110527.000000  110527.000000  110527.000000   \n",
       "mean        0.197246       0.071865       0.030400       0.022248   \n",
       "std         0.397921       0.258265       0.171686       0.161543   \n",
       "min         0.000000       0.000000       0.000000       0.000000   \n",
       "25%         0.000000       0.000000       0.000000       0.000000   \n",
       "50%         0.000000       0.000000       0.000000       0.000000   \n",
       "75%         0.000000       0.000000       0.000000       0.000000   \n",
       "max         1.000000       1.000000       1.000000       4.000000   \n",
       "\n",
       "        SMS_received  \n",
       "count  110527.000000  \n",
       "mean        0.321026  \n",
       "std         0.466873  \n",
       "min         0.000000  \n",
       "25%         0.000000  \n",
       "50%         0.000000  \n",
       "75%         1.000000  \n",
       "max         1.000000  "
      ]
     },
     "execution_count": 44,
     "metadata": {},
     "output_type": "execute_result"
    }
   ],
   "source": [
    "# computing general statistics for the dataset\n",
    "df.describe()"
   ]
  },
  {
   "cell_type": "markdown",
   "id": "232c2156",
   "metadata": {},
   "source": [
    "> The maximum age of the patients is 115, while the minimun age is less than 1 year. The averag age of the patient is 37. There is a data quality issue with the minimum age."
   ]
  },
  {
   "cell_type": "code",
   "execution_count": 45,
   "id": "0f355fed",
   "metadata": {},
   "outputs": [
    {
     "data": {
      "text/plain": [
       "PatientId         0\n",
       "AppointmentID     0\n",
       "Gender            0\n",
       "ScheduledDay      0\n",
       "AppointmentDay    0\n",
       "Age               0\n",
       "Neighbourhood     0\n",
       "Scholarship       0\n",
       "Hipertension      0\n",
       "Diabetes          0\n",
       "Alcoholism        0\n",
       "Handcap           0\n",
       "SMS_received      0\n",
       "No-show           0\n",
       "dtype: int64"
      ]
     },
     "execution_count": 45,
     "metadata": {},
     "output_type": "execute_result"
    }
   ],
   "source": [
    "# Checking for empyty columns\n",
    "df.isna().sum()"
   ]
  },
  {
   "cell_type": "markdown",
   "id": "c8d2fb84",
   "metadata": {},
   "source": [
    "> There are no columns with empty values."
   ]
  },
  {
   "cell_type": "markdown",
   "id": "a29fd173",
   "metadata": {},
   "source": [
    "### Accessing Data\n",
    "- Incorrect spelling of some of the columns: PatientID as PatientId, Hypertension as Hipertension, Handicap as Handcap, No_show as No-show\n",
    "- Negative sign in the Age column\n",
    "- Inappropiate datatype for ScheduledDay and AppointmentDay\n",
    "- Mismatch number of records: No-show column records were mismatched. 'No' in this dataset means that the patients showed up while 'Yes' means that they didn't show up for their appointments."
   ]
  },
  {
   "cell_type": "markdown",
   "id": "57a66b7b",
   "metadata": {},
   "source": [
    "### Data Cleaning\n",
    "- I will replace the incorrect spellings with the correct spellings.\n",
    "- I will remove the negative sign in the age.\n",
    "- I will convert the ScheduledDay and AppointmentDay to thier appropiate data types.\n",
    "- I will replace the mismatched values in the No_show column with the appropiate values"
   ]
  },
  {
   "cell_type": "code",
   "execution_count": 46,
   "id": "7f3057bb",
   "metadata": {},
   "outputs": [],
   "source": [
    "# Replacing the incorrect spellings\n",
    "df.rename(columns={'PatientId': 'PatientID',\n",
    "                         'Hipertension': 'Hypertension',\n",
    "                          'No-show': 'No_show',\n",
    "                        'Handcap': 'Handicap'}, inplace = True)"
   ]
  },
  {
   "cell_type": "code",
   "execution_count": 47,
   "id": "2af17060",
   "metadata": {},
   "outputs": [
    {
     "data": {
      "text/html": [
       "<div>\n",
       "<style scoped>\n",
       "    .dataframe tbody tr th:only-of-type {\n",
       "        vertical-align: middle;\n",
       "    }\n",
       "\n",
       "    .dataframe tbody tr th {\n",
       "        vertical-align: top;\n",
       "    }\n",
       "\n",
       "    .dataframe thead th {\n",
       "        text-align: right;\n",
       "    }\n",
       "</style>\n",
       "<table border=\"1\" class=\"dataframe\">\n",
       "  <thead>\n",
       "    <tr style=\"text-align: right;\">\n",
       "      <th></th>\n",
       "      <th>PatientID</th>\n",
       "      <th>AppointmentID</th>\n",
       "      <th>Gender</th>\n",
       "      <th>ScheduledDay</th>\n",
       "      <th>AppointmentDay</th>\n",
       "      <th>Age</th>\n",
       "      <th>Neighbourhood</th>\n",
       "      <th>Scholarship</th>\n",
       "      <th>Hypertension</th>\n",
       "      <th>Diabetes</th>\n",
       "      <th>Alcoholism</th>\n",
       "      <th>Handicap</th>\n",
       "      <th>SMS_received</th>\n",
       "      <th>No_show</th>\n",
       "    </tr>\n",
       "  </thead>\n",
       "  <tbody>\n",
       "    <tr>\n",
       "      <th>0</th>\n",
       "      <td>2.987250e+13</td>\n",
       "      <td>5642903</td>\n",
       "      <td>F</td>\n",
       "      <td>2016-04-29T18:38:08Z</td>\n",
       "      <td>2016-04-29T00:00:00Z</td>\n",
       "      <td>62</td>\n",
       "      <td>JARDIM DA PENHA</td>\n",
       "      <td>0</td>\n",
       "      <td>1</td>\n",
       "      <td>0</td>\n",
       "      <td>0</td>\n",
       "      <td>0</td>\n",
       "      <td>0</td>\n",
       "      <td>No</td>\n",
       "    </tr>\n",
       "    <tr>\n",
       "      <th>1</th>\n",
       "      <td>5.589978e+14</td>\n",
       "      <td>5642503</td>\n",
       "      <td>M</td>\n",
       "      <td>2016-04-29T16:08:27Z</td>\n",
       "      <td>2016-04-29T00:00:00Z</td>\n",
       "      <td>56</td>\n",
       "      <td>JARDIM DA PENHA</td>\n",
       "      <td>0</td>\n",
       "      <td>0</td>\n",
       "      <td>0</td>\n",
       "      <td>0</td>\n",
       "      <td>0</td>\n",
       "      <td>0</td>\n",
       "      <td>No</td>\n",
       "    </tr>\n",
       "    <tr>\n",
       "      <th>2</th>\n",
       "      <td>4.262962e+12</td>\n",
       "      <td>5642549</td>\n",
       "      <td>F</td>\n",
       "      <td>2016-04-29T16:19:04Z</td>\n",
       "      <td>2016-04-29T00:00:00Z</td>\n",
       "      <td>62</td>\n",
       "      <td>MATA DA PRAIA</td>\n",
       "      <td>0</td>\n",
       "      <td>0</td>\n",
       "      <td>0</td>\n",
       "      <td>0</td>\n",
       "      <td>0</td>\n",
       "      <td>0</td>\n",
       "      <td>No</td>\n",
       "    </tr>\n",
       "    <tr>\n",
       "      <th>3</th>\n",
       "      <td>8.679512e+11</td>\n",
       "      <td>5642828</td>\n",
       "      <td>F</td>\n",
       "      <td>2016-04-29T17:29:31Z</td>\n",
       "      <td>2016-04-29T00:00:00Z</td>\n",
       "      <td>8</td>\n",
       "      <td>PONTAL DE CAMBURI</td>\n",
       "      <td>0</td>\n",
       "      <td>0</td>\n",
       "      <td>0</td>\n",
       "      <td>0</td>\n",
       "      <td>0</td>\n",
       "      <td>0</td>\n",
       "      <td>No</td>\n",
       "    </tr>\n",
       "    <tr>\n",
       "      <th>4</th>\n",
       "      <td>8.841186e+12</td>\n",
       "      <td>5642494</td>\n",
       "      <td>F</td>\n",
       "      <td>2016-04-29T16:07:23Z</td>\n",
       "      <td>2016-04-29T00:00:00Z</td>\n",
       "      <td>56</td>\n",
       "      <td>JARDIM DA PENHA</td>\n",
       "      <td>0</td>\n",
       "      <td>1</td>\n",
       "      <td>1</td>\n",
       "      <td>0</td>\n",
       "      <td>0</td>\n",
       "      <td>0</td>\n",
       "      <td>No</td>\n",
       "    </tr>\n",
       "  </tbody>\n",
       "</table>\n",
       "</div>"
      ],
      "text/plain": [
       "      PatientID  AppointmentID Gender          ScheduledDay  \\\n",
       "0  2.987250e+13        5642903      F  2016-04-29T18:38:08Z   \n",
       "1  5.589978e+14        5642503      M  2016-04-29T16:08:27Z   \n",
       "2  4.262962e+12        5642549      F  2016-04-29T16:19:04Z   \n",
       "3  8.679512e+11        5642828      F  2016-04-29T17:29:31Z   \n",
       "4  8.841186e+12        5642494      F  2016-04-29T16:07:23Z   \n",
       "\n",
       "         AppointmentDay  Age      Neighbourhood  Scholarship  Hypertension  \\\n",
       "0  2016-04-29T00:00:00Z   62    JARDIM DA PENHA            0             1   \n",
       "1  2016-04-29T00:00:00Z   56    JARDIM DA PENHA            0             0   \n",
       "2  2016-04-29T00:00:00Z   62      MATA DA PRAIA            0             0   \n",
       "3  2016-04-29T00:00:00Z    8  PONTAL DE CAMBURI            0             0   \n",
       "4  2016-04-29T00:00:00Z   56    JARDIM DA PENHA            0             1   \n",
       "\n",
       "   Diabetes  Alcoholism  Handicap  SMS_received No_show  \n",
       "0         0           0         0             0      No  \n",
       "1         0           0         0             0      No  \n",
       "2         0           0         0             0      No  \n",
       "3         0           0         0             0      No  \n",
       "4         1           0         0             0      No  "
      ]
     },
     "execution_count": 47,
     "metadata": {},
     "output_type": "execute_result"
    }
   ],
   "source": [
    "# checking if the column names were properly replaced\n",
    "df.head(5)"
   ]
  },
  {
   "cell_type": "markdown",
   "id": "2e53e02f",
   "metadata": {},
   "source": [
    "> The column names were properly replaced"
   ]
  },
  {
   "cell_type": "code",
   "execution_count": 48,
   "id": "fffc0304",
   "metadata": {},
   "outputs": [],
   "source": [
    "# removing the negative sign from the age\n",
    "df.Age.replace(-1 , 1, inplace = True )"
   ]
  },
  {
   "cell_type": "code",
   "execution_count": 49,
   "id": "5e443a01",
   "metadata": {},
   "outputs": [
    {
     "data": {
      "text/plain": [
       "0         62\n",
       "1         56\n",
       "2         62\n",
       "3          8\n",
       "4         56\n",
       "          ..\n",
       "110522    56\n",
       "110523    51\n",
       "110524    21\n",
       "110525    38\n",
       "110526    54\n",
       "Name: Age, Length: 110527, dtype: int64"
      ]
     },
     "execution_count": 49,
     "metadata": {},
     "output_type": "execute_result"
    }
   ],
   "source": [
    "# calling out the Age column again\n",
    "df.Age"
   ]
  },
  {
   "cell_type": "code",
   "execution_count": 50,
   "id": "2b49be1c",
   "metadata": {},
   "outputs": [
    {
     "data": {
      "text/html": [
       "<div>\n",
       "<style scoped>\n",
       "    .dataframe tbody tr th:only-of-type {\n",
       "        vertical-align: middle;\n",
       "    }\n",
       "\n",
       "    .dataframe tbody tr th {\n",
       "        vertical-align: top;\n",
       "    }\n",
       "\n",
       "    .dataframe thead th {\n",
       "        text-align: right;\n",
       "    }\n",
       "</style>\n",
       "<table border=\"1\" class=\"dataframe\">\n",
       "  <thead>\n",
       "    <tr style=\"text-align: right;\">\n",
       "      <th></th>\n",
       "      <th>PatientID</th>\n",
       "      <th>AppointmentID</th>\n",
       "      <th>Age</th>\n",
       "      <th>Scholarship</th>\n",
       "      <th>Hypertension</th>\n",
       "      <th>Diabetes</th>\n",
       "      <th>Alcoholism</th>\n",
       "      <th>Handicap</th>\n",
       "      <th>SMS_received</th>\n",
       "    </tr>\n",
       "  </thead>\n",
       "  <tbody>\n",
       "    <tr>\n",
       "      <th>count</th>\n",
       "      <td>1.105270e+05</td>\n",
       "      <td>1.105270e+05</td>\n",
       "      <td>110527.000000</td>\n",
       "      <td>110527.000000</td>\n",
       "      <td>110527.000000</td>\n",
       "      <td>110527.000000</td>\n",
       "      <td>110527.000000</td>\n",
       "      <td>110527.000000</td>\n",
       "      <td>110527.000000</td>\n",
       "    </tr>\n",
       "    <tr>\n",
       "      <th>mean</th>\n",
       "      <td>1.474963e+14</td>\n",
       "      <td>5.675305e+06</td>\n",
       "      <td>37.088892</td>\n",
       "      <td>0.098266</td>\n",
       "      <td>0.197246</td>\n",
       "      <td>0.071865</td>\n",
       "      <td>0.030400</td>\n",
       "      <td>0.022248</td>\n",
       "      <td>0.321026</td>\n",
       "    </tr>\n",
       "    <tr>\n",
       "      <th>std</th>\n",
       "      <td>2.560949e+14</td>\n",
       "      <td>7.129575e+04</td>\n",
       "      <td>23.110176</td>\n",
       "      <td>0.297675</td>\n",
       "      <td>0.397921</td>\n",
       "      <td>0.258265</td>\n",
       "      <td>0.171686</td>\n",
       "      <td>0.161543</td>\n",
       "      <td>0.466873</td>\n",
       "    </tr>\n",
       "    <tr>\n",
       "      <th>min</th>\n",
       "      <td>3.921784e+04</td>\n",
       "      <td>5.030230e+06</td>\n",
       "      <td>0.000000</td>\n",
       "      <td>0.000000</td>\n",
       "      <td>0.000000</td>\n",
       "      <td>0.000000</td>\n",
       "      <td>0.000000</td>\n",
       "      <td>0.000000</td>\n",
       "      <td>0.000000</td>\n",
       "    </tr>\n",
       "    <tr>\n",
       "      <th>25%</th>\n",
       "      <td>4.172614e+12</td>\n",
       "      <td>5.640286e+06</td>\n",
       "      <td>18.000000</td>\n",
       "      <td>0.000000</td>\n",
       "      <td>0.000000</td>\n",
       "      <td>0.000000</td>\n",
       "      <td>0.000000</td>\n",
       "      <td>0.000000</td>\n",
       "      <td>0.000000</td>\n",
       "    </tr>\n",
       "    <tr>\n",
       "      <th>50%</th>\n",
       "      <td>3.173184e+13</td>\n",
       "      <td>5.680573e+06</td>\n",
       "      <td>37.000000</td>\n",
       "      <td>0.000000</td>\n",
       "      <td>0.000000</td>\n",
       "      <td>0.000000</td>\n",
       "      <td>0.000000</td>\n",
       "      <td>0.000000</td>\n",
       "      <td>0.000000</td>\n",
       "    </tr>\n",
       "    <tr>\n",
       "      <th>75%</th>\n",
       "      <td>9.439172e+13</td>\n",
       "      <td>5.725524e+06</td>\n",
       "      <td>55.000000</td>\n",
       "      <td>0.000000</td>\n",
       "      <td>0.000000</td>\n",
       "      <td>0.000000</td>\n",
       "      <td>0.000000</td>\n",
       "      <td>0.000000</td>\n",
       "      <td>1.000000</td>\n",
       "    </tr>\n",
       "    <tr>\n",
       "      <th>max</th>\n",
       "      <td>9.999816e+14</td>\n",
       "      <td>5.790484e+06</td>\n",
       "      <td>115.000000</td>\n",
       "      <td>1.000000</td>\n",
       "      <td>1.000000</td>\n",
       "      <td>1.000000</td>\n",
       "      <td>1.000000</td>\n",
       "      <td>4.000000</td>\n",
       "      <td>1.000000</td>\n",
       "    </tr>\n",
       "  </tbody>\n",
       "</table>\n",
       "</div>"
      ],
      "text/plain": [
       "          PatientID  AppointmentID            Age    Scholarship  \\\n",
       "count  1.105270e+05   1.105270e+05  110527.000000  110527.000000   \n",
       "mean   1.474963e+14   5.675305e+06      37.088892       0.098266   \n",
       "std    2.560949e+14   7.129575e+04      23.110176       0.297675   \n",
       "min    3.921784e+04   5.030230e+06       0.000000       0.000000   \n",
       "25%    4.172614e+12   5.640286e+06      18.000000       0.000000   \n",
       "50%    3.173184e+13   5.680573e+06      37.000000       0.000000   \n",
       "75%    9.439172e+13   5.725524e+06      55.000000       0.000000   \n",
       "max    9.999816e+14   5.790484e+06     115.000000       1.000000   \n",
       "\n",
       "        Hypertension       Diabetes     Alcoholism       Handicap  \\\n",
       "count  110527.000000  110527.000000  110527.000000  110527.000000   \n",
       "mean        0.197246       0.071865       0.030400       0.022248   \n",
       "std         0.397921       0.258265       0.171686       0.161543   \n",
       "min         0.000000       0.000000       0.000000       0.000000   \n",
       "25%         0.000000       0.000000       0.000000       0.000000   \n",
       "50%         0.000000       0.000000       0.000000       0.000000   \n",
       "75%         0.000000       0.000000       0.000000       0.000000   \n",
       "max         1.000000       1.000000       1.000000       4.000000   \n",
       "\n",
       "        SMS_received  \n",
       "count  110527.000000  \n",
       "mean        0.321026  \n",
       "std         0.466873  \n",
       "min         0.000000  \n",
       "25%         0.000000  \n",
       "50%         0.000000  \n",
       "75%         1.000000  \n",
       "max         1.000000  "
      ]
     },
     "execution_count": 50,
     "metadata": {},
     "output_type": "execute_result"
    }
   ],
   "source": [
    "# checking if the negative sign has been removeed.\n",
    "df.describe()"
   ]
  },
  {
   "cell_type": "markdown",
   "id": "8285c949",
   "metadata": {},
   "source": [
    "> The negative sign has been removed. Now, the maximum age is 115 and the minimum age is 0"
   ]
  },
  {
   "cell_type": "code",
   "execution_count": 51,
   "id": "521d3f71",
   "metadata": {},
   "outputs": [],
   "source": [
    "# Changing the data types of the 'ScheduledDay' and 'AppointmentDay' columns\n",
    "df['ScheduledDay'] = pd.to_datetime(df['ScheduledDay'])\n",
    "df['AppointmentDay'] = pd.to_datetime(df['AppointmentDay'])"
   ]
  },
  {
   "cell_type": "code",
   "execution_count": 52,
   "id": "e93dd2ac",
   "metadata": {},
   "outputs": [
    {
     "data": {
      "text/plain": [
       "PatientID                     float64\n",
       "AppointmentID                   int64\n",
       "Gender                         object\n",
       "ScheduledDay      datetime64[ns, UTC]\n",
       "AppointmentDay    datetime64[ns, UTC]\n",
       "Age                             int64\n",
       "Neighbourhood                  object\n",
       "Scholarship                     int64\n",
       "Hypertension                    int64\n",
       "Diabetes                        int64\n",
       "Alcoholism                      int64\n",
       "Handicap                        int64\n",
       "SMS_received                    int64\n",
       "No_show                        object\n",
       "dtype: object"
      ]
     },
     "execution_count": 52,
     "metadata": {},
     "output_type": "execute_result"
    }
   ],
   "source": [
    "# Checking if the data types was properly converted.\n",
    "df.dtypes"
   ]
  },
  {
   "cell_type": "markdown",
   "id": "cd668d88",
   "metadata": {},
   "source": [
    "> The datatype was converted appropiately"
   ]
  },
  {
   "cell_type": "code",
   "execution_count": 53,
   "id": "4de927b6",
   "metadata": {},
   "outputs": [],
   "source": [
    "#Replacing the unique values in the No_show column with 'Present' and 'Absent'\n",
    "No_show_replacement = {\"No\" : \"Present\", \"Yes\" : \"Absent\"}\n",
    "df[\"No_show\"].replace(No_show_replacement, inplace = True)"
   ]
  },
  {
   "cell_type": "code",
   "execution_count": 54,
   "id": "cf4b208d",
   "metadata": {},
   "outputs": [
    {
     "data": {
      "text/html": [
       "<div>\n",
       "<style scoped>\n",
       "    .dataframe tbody tr th:only-of-type {\n",
       "        vertical-align: middle;\n",
       "    }\n",
       "\n",
       "    .dataframe tbody tr th {\n",
       "        vertical-align: top;\n",
       "    }\n",
       "\n",
       "    .dataframe thead th {\n",
       "        text-align: right;\n",
       "    }\n",
       "</style>\n",
       "<table border=\"1\" class=\"dataframe\">\n",
       "  <thead>\n",
       "    <tr style=\"text-align: right;\">\n",
       "      <th></th>\n",
       "      <th>PatientID</th>\n",
       "      <th>AppointmentID</th>\n",
       "      <th>Gender</th>\n",
       "      <th>ScheduledDay</th>\n",
       "      <th>AppointmentDay</th>\n",
       "      <th>Age</th>\n",
       "      <th>Neighbourhood</th>\n",
       "      <th>Scholarship</th>\n",
       "      <th>Hypertension</th>\n",
       "      <th>Diabetes</th>\n",
       "      <th>Alcoholism</th>\n",
       "      <th>Handicap</th>\n",
       "      <th>SMS_received</th>\n",
       "      <th>No_show</th>\n",
       "    </tr>\n",
       "  </thead>\n",
       "  <tbody>\n",
       "    <tr>\n",
       "      <th>0</th>\n",
       "      <td>2.987250e+13</td>\n",
       "      <td>5642903</td>\n",
       "      <td>F</td>\n",
       "      <td>2016-04-29 18:38:08+00:00</td>\n",
       "      <td>2016-04-29 00:00:00+00:00</td>\n",
       "      <td>62</td>\n",
       "      <td>JARDIM DA PENHA</td>\n",
       "      <td>0</td>\n",
       "      <td>1</td>\n",
       "      <td>0</td>\n",
       "      <td>0</td>\n",
       "      <td>0</td>\n",
       "      <td>0</td>\n",
       "      <td>Present</td>\n",
       "    </tr>\n",
       "    <tr>\n",
       "      <th>1</th>\n",
       "      <td>5.589978e+14</td>\n",
       "      <td>5642503</td>\n",
       "      <td>M</td>\n",
       "      <td>2016-04-29 16:08:27+00:00</td>\n",
       "      <td>2016-04-29 00:00:00+00:00</td>\n",
       "      <td>56</td>\n",
       "      <td>JARDIM DA PENHA</td>\n",
       "      <td>0</td>\n",
       "      <td>0</td>\n",
       "      <td>0</td>\n",
       "      <td>0</td>\n",
       "      <td>0</td>\n",
       "      <td>0</td>\n",
       "      <td>Present</td>\n",
       "    </tr>\n",
       "    <tr>\n",
       "      <th>2</th>\n",
       "      <td>4.262962e+12</td>\n",
       "      <td>5642549</td>\n",
       "      <td>F</td>\n",
       "      <td>2016-04-29 16:19:04+00:00</td>\n",
       "      <td>2016-04-29 00:00:00+00:00</td>\n",
       "      <td>62</td>\n",
       "      <td>MATA DA PRAIA</td>\n",
       "      <td>0</td>\n",
       "      <td>0</td>\n",
       "      <td>0</td>\n",
       "      <td>0</td>\n",
       "      <td>0</td>\n",
       "      <td>0</td>\n",
       "      <td>Present</td>\n",
       "    </tr>\n",
       "    <tr>\n",
       "      <th>3</th>\n",
       "      <td>8.679512e+11</td>\n",
       "      <td>5642828</td>\n",
       "      <td>F</td>\n",
       "      <td>2016-04-29 17:29:31+00:00</td>\n",
       "      <td>2016-04-29 00:00:00+00:00</td>\n",
       "      <td>8</td>\n",
       "      <td>PONTAL DE CAMBURI</td>\n",
       "      <td>0</td>\n",
       "      <td>0</td>\n",
       "      <td>0</td>\n",
       "      <td>0</td>\n",
       "      <td>0</td>\n",
       "      <td>0</td>\n",
       "      <td>Present</td>\n",
       "    </tr>\n",
       "    <tr>\n",
       "      <th>4</th>\n",
       "      <td>8.841186e+12</td>\n",
       "      <td>5642494</td>\n",
       "      <td>F</td>\n",
       "      <td>2016-04-29 16:07:23+00:00</td>\n",
       "      <td>2016-04-29 00:00:00+00:00</td>\n",
       "      <td>56</td>\n",
       "      <td>JARDIM DA PENHA</td>\n",
       "      <td>0</td>\n",
       "      <td>1</td>\n",
       "      <td>1</td>\n",
       "      <td>0</td>\n",
       "      <td>0</td>\n",
       "      <td>0</td>\n",
       "      <td>Present</td>\n",
       "    </tr>\n",
       "  </tbody>\n",
       "</table>\n",
       "</div>"
      ],
      "text/plain": [
       "      PatientID  AppointmentID Gender              ScheduledDay  \\\n",
       "0  2.987250e+13        5642903      F 2016-04-29 18:38:08+00:00   \n",
       "1  5.589978e+14        5642503      M 2016-04-29 16:08:27+00:00   \n",
       "2  4.262962e+12        5642549      F 2016-04-29 16:19:04+00:00   \n",
       "3  8.679512e+11        5642828      F 2016-04-29 17:29:31+00:00   \n",
       "4  8.841186e+12        5642494      F 2016-04-29 16:07:23+00:00   \n",
       "\n",
       "             AppointmentDay  Age      Neighbourhood  Scholarship  \\\n",
       "0 2016-04-29 00:00:00+00:00   62    JARDIM DA PENHA            0   \n",
       "1 2016-04-29 00:00:00+00:00   56    JARDIM DA PENHA            0   \n",
       "2 2016-04-29 00:00:00+00:00   62      MATA DA PRAIA            0   \n",
       "3 2016-04-29 00:00:00+00:00    8  PONTAL DE CAMBURI            0   \n",
       "4 2016-04-29 00:00:00+00:00   56    JARDIM DA PENHA            0   \n",
       "\n",
       "   Hypertension  Diabetes  Alcoholism  Handicap  SMS_received  No_show  \n",
       "0             1         0           0         0             0  Present  \n",
       "1             0         0           0         0             0  Present  \n",
       "2             0         0           0         0             0  Present  \n",
       "3             0         0           0         0             0  Present  \n",
       "4             1         1           0         0             0  Present  "
      ]
     },
     "execution_count": 54,
     "metadata": {},
     "output_type": "execute_result"
    }
   ],
   "source": [
    "# Checking if the values were properly replaced\n",
    "df.head()"
   ]
  },
  {
   "cell_type": "markdown",
   "id": "d1966301",
   "metadata": {},
   "source": [
    "> The mismatched values in the No_show column were repalced appropiately"
   ]
  },
  {
   "cell_type": "markdown",
   "id": "d8c194da",
   "metadata": {},
   "source": [
    "## Exploratory Data Analysis"
   ]
  },
  {
   "cell_type": "markdown",
   "id": "e509c0cd",
   "metadata": {},
   "source": [
    "> My dataset is now ready for analysis, so I will proceed with exploring the dataset."
   ]
  },
  {
   "cell_type": "code",
   "execution_count": 55,
   "id": "e5669e37",
   "metadata": {},
   "outputs": [],
   "source": [
    "# Defining a function for an histogram in order to avoid a repitive code.\n",
    "def custom_plot(x):\n",
    "      plt.hist(x)\n",
    "      plt.show()"
   ]
  },
  {
   "cell_type": "markdown",
   "id": "274876fc",
   "metadata": {},
   "source": [
    "### Are there more patients enrolled in the Brasillian wellfare (that is, are they on scholarship) ? "
   ]
  },
  {
   "cell_type": "code",
   "execution_count": 56,
   "id": "00e0446a",
   "metadata": {},
   "outputs": [
    {
     "data": {
      "image/png": "[encoded data removed]",
      "text/plain": [
       "<Figure size 432x288 with 1 Axes>"
      ]
     },
     "metadata": {
      "needs_background": "light"
     },
     "output_type": "display_data"
    }
   ],
   "source": [
    "custom_plot(df['Scholarship'])"
   ]
  },
  {
   "cell_type": "markdown",
   "id": "eb00cfcc",
   "metadata": {},
   "source": [
    "> This is an histogram chart to determine if there are more patients on scholarship."
   ]
  },
  {
   "cell_type": "markdown",
   "id": "3708760b",
   "metadata": {},
   "source": [
    "### Are there more patients suffering from hypertension?"
   ]
  },
  {
   "cell_type": "code",
   "execution_count": 57,
   "id": "a88c767d",
   "metadata": {},
   "outputs": [
    {
     "data": {
      "image/png": "[encoded data removed]",
      "text/plain": [
       "<Figure size 432x288 with 1 Axes>"
      ]
     },
     "metadata": {
      "needs_background": "light"
     },
     "output_type": "display_data"
    }
   ],
   "source": [
    "custom_plot(df['Hypertension'])"
   ]
  },
  {
   "cell_type": "markdown",
   "id": "48a6574a",
   "metadata": {},
   "source": [
    "> This an histogram chart to determine if there are more patients suffering from hypertension"
   ]
  },
  {
   "cell_type": "markdown",
   "id": "cb4b742b",
   "metadata": {},
   "source": [
    "### Are there more patients suffering from diabetes? "
   ]
  },
  {
   "cell_type": "code",
   "execution_count": 58,
   "id": "993833a5",
   "metadata": {},
   "outputs": [
    {
     "data": {
      "image/png": "[encoded data removed]",
      "text/plain": [
       "<Figure size 432x288 with 1 Axes>"
      ]
     },
     "metadata": {
      "needs_background": "light"
     },
     "output_type": "display_data"
    }
   ],
   "source": [
    "custom_plot(df['Diabetes'])"
   ]
  },
  {
   "cell_type": "markdown",
   "id": "fabf6922",
   "metadata": {},
   "source": [
    "> This is an histogram chart to determine if there are more patients who suffers from diabetes."
   ]
  },
  {
   "cell_type": "markdown",
   "id": "4afa0352",
   "metadata": {},
   "source": [
    "### Are there more patients taking alcohol?"
   ]
  },
  {
   "cell_type": "code",
   "execution_count": 59,
   "id": "e46a82ff",
   "metadata": {},
   "outputs": [
    {
     "data": {
      "image/png": "[encoded data removed]",
      "text/plain": [
       "<Figure size 432x288 with 1 Axes>"
      ]
     },
     "metadata": {
      "needs_background": "light"
     },
     "output_type": "display_data"
    }
   ],
   "source": [
    "custom_plot(df['Alcoholism'])"
   ]
  },
  {
   "cell_type": "markdown",
   "id": "82fb6b1e",
   "metadata": {},
   "source": [
    "> This histogram chart is to determine if there are more patients taking alcohol"
   ]
  },
  {
   "cell_type": "markdown",
   "id": "f5b73b64",
   "metadata": {},
   "source": [
    "### Are there more patients who are handicaped? "
   ]
  },
  {
   "cell_type": "code",
   "execution_count": 60,
   "id": "0c88d66e",
   "metadata": {},
   "outputs": [
    {
     "data": {
      "image/png": "[encoded data removed]",
      "text/plain": [
       "<Figure size 432x288 with 1 Axes>"
      ]
     },
     "metadata": {
      "needs_background": "light"
     },
     "output_type": "display_data"
    }
   ],
   "source": [
    "custom_plot(df['Handicap'])"
   ]
  },
  {
   "cell_type": "markdown",
   "id": "e0260518",
   "metadata": {},
   "source": [
    "> This histogram is to determine if there are more patients who are handicapped"
   ]
  },
  {
   "cell_type": "markdown",
   "id": "a3f4bbaf",
   "metadata": {},
   "source": [
    "### Are there more patients who recieved an SMS?"
   ]
  },
  {
   "cell_type": "code",
   "execution_count": 61,
   "id": "388a1d90",
   "metadata": {},
   "outputs": [
    {
     "data": {
      "image/png": "[encoded data removed]",
      "text/plain": [
       "<Figure size 432x288 with 1 Axes>"
      ]
     },
     "metadata": {
      "needs_background": "light"
     },
     "output_type": "display_data"
    }
   ],
   "source": [
    "custom_plot(df['SMS_received'])"
   ]
  },
  {
   "cell_type": "markdown",
   "id": "20913c4a",
   "metadata": {},
   "source": [
    "> This histogram is to determine if there are more patients who recieved an SMS"
   ]
  },
  {
   "cell_type": "markdown",
   "id": "77c31378",
   "metadata": {},
   "source": [
    "### Are there more patients who showed up for the appointment?"
   ]
  },
  {
   "cell_type": "code",
   "execution_count": 62,
   "id": "95927efd",
   "metadata": {},
   "outputs": [
    {
     "data": {
      "text/plain": [
       "<AxesSubplot:>"
      ]
     },
     "execution_count": 62,
     "metadata": {},
     "output_type": "execute_result"
    },
    {
     "data": {
      "image/png": "[encoded data removed]",
      "text/plain": [
       "<Figure size 432x288 with 1 Axes>"
      ]
     },
     "metadata": {
      "needs_background": "light"
     },
     "output_type": "display_data"
    }
   ],
   "source": [
    "df['No_show'].value_counts().plot(kind='bar')"
   ]
  },
  {
   "cell_type": "markdown",
   "id": "a3d11e45",
   "metadata": {},
   "source": [
    "> This bar chart is to determine if there are more patients who showed up for the appointment."
   ]
  },
  {
   "cell_type": "markdown",
   "id": "dd626f46",
   "metadata": {},
   "source": [
    "### Feature Engineering for the remaining exploratory data analysis"
   ]
  },
  {
   "cell_type": "code",
   "execution_count": 63,
   "id": "519b4678",
   "metadata": {},
   "outputs": [],
   "source": [
    "#Extracting the date from the 'ScheduledDay' and 'AppointmentDay' columns\n",
    "df['Scheduled_date'] = df['ScheduledDay'].dt.date\n",
    "df['Appointment_date'] = df['AppointmentDay'].dt.date\n",
    "\n",
    "#Extracting the time from the 'ScheduledDay' column\n",
    "df['Scheduled_time'] = df['ScheduledDay'].dt.time"
   ]
  },
  {
   "cell_type": "code",
   "execution_count": 64,
   "id": "b380189c",
   "metadata": {},
   "outputs": [],
   "source": [
    "#Function for extracting day_name, month_name and year\n",
    "def feature_engineer(df_1, days, months, years, feature):\n",
    "    df_1[days] = df_1[feature].dt.day_name()\n",
    "    df_1[months] = df_1[feature].dt.month_name()\n",
    "    df_1[years] = df_1[feature].apply(lambda x: x.year)\n",
    "    \n",
    "feature_engineer(df, 'Scheduled_day', 'Scheduled_month', 'Scheduled_year', 'ScheduledDay')\n",
    "feature_engineer(df, 'Appointment_day', 'Appointment_month', 'Appointment_year', 'AppointmentDay')"
   ]
  },
  {
   "cell_type": "code",
   "execution_count": 65,
   "id": "38e42470",
   "metadata": {},
   "outputs": [],
   "source": [
    "##Extracting the hour, minute and second from the 'Scheduled_time'column\n",
    "df['Scheduledtime_hour'] = df['Scheduled_time'].apply(lambda x: x.hour)\n",
    "df['Scheduledtime_min'] = df['Scheduled_time'].apply(lambda x: x.minute)\n",
    "df['Scheduledtime_sec'] = df['Scheduled_time'].apply(lambda x: x.second)"
   ]
  },
  {
   "cell_type": "code",
   "execution_count": 66,
   "id": "fe651449",
   "metadata": {},
   "outputs": [
    {
     "data": {
      "text/html": [
       "<div>\n",
       "<style scoped>\n",
       "    .dataframe tbody tr th:only-of-type {\n",
       "        vertical-align: middle;\n",
       "    }\n",
       "\n",
       "    .dataframe tbody tr th {\n",
       "        vertical-align: top;\n",
       "    }\n",
       "\n",
       "    .dataframe thead th {\n",
       "        text-align: right;\n",
       "    }\n",
       "</style>\n",
       "<table border=\"1\" class=\"dataframe\">\n",
       "  <thead>\n",
       "    <tr style=\"text-align: right;\">\n",
       "      <th></th>\n",
       "      <th>PatientID</th>\n",
       "      <th>AppointmentID</th>\n",
       "      <th>Gender</th>\n",
       "      <th>ScheduledDay</th>\n",
       "      <th>AppointmentDay</th>\n",
       "      <th>Age</th>\n",
       "      <th>Neighbourhood</th>\n",
       "      <th>Scholarship</th>\n",
       "      <th>Hypertension</th>\n",
       "      <th>Diabetes</th>\n",
       "      <th>...</th>\n",
       "      <th>Scheduled_day</th>\n",
       "      <th>Scheduled_month</th>\n",
       "      <th>Scheduled_year</th>\n",
       "      <th>Appointment_day</th>\n",
       "      <th>Appointment_month</th>\n",
       "      <th>Appointment_year</th>\n",
       "      <th>Scheduledtime_hour</th>\n",
       "      <th>Scheduledtime_min</th>\n",
       "      <th>Scheduledtime_sec</th>\n",
       "      <th>Age_groups</th>\n",
       "    </tr>\n",
       "  </thead>\n",
       "  <tbody>\n",
       "    <tr>\n",
       "      <th>0</th>\n",
       "      <td>2.987250e+13</td>\n",
       "      <td>5642903</td>\n",
       "      <td>F</td>\n",
       "      <td>2016-04-29 18:38:08+00:00</td>\n",
       "      <td>2016-04-29 00:00:00+00:00</td>\n",
       "      <td>62</td>\n",
       "      <td>JARDIM DA PENHA</td>\n",
       "      <td>0</td>\n",
       "      <td>1</td>\n",
       "      <td>0</td>\n",
       "      <td>...</td>\n",
       "      <td>Friday</td>\n",
       "      <td>April</td>\n",
       "      <td>2016</td>\n",
       "      <td>Friday</td>\n",
       "      <td>April</td>\n",
       "      <td>2016</td>\n",
       "      <td>18</td>\n",
       "      <td>38</td>\n",
       "      <td>8</td>\n",
       "      <td>Elderly</td>\n",
       "    </tr>\n",
       "    <tr>\n",
       "      <th>1</th>\n",
       "      <td>5.589978e+14</td>\n",
       "      <td>5642503</td>\n",
       "      <td>M</td>\n",
       "      <td>2016-04-29 16:08:27+00:00</td>\n",
       "      <td>2016-04-29 00:00:00+00:00</td>\n",
       "      <td>56</td>\n",
       "      <td>JARDIM DA PENHA</td>\n",
       "      <td>0</td>\n",
       "      <td>0</td>\n",
       "      <td>0</td>\n",
       "      <td>...</td>\n",
       "      <td>Friday</td>\n",
       "      <td>April</td>\n",
       "      <td>2016</td>\n",
       "      <td>Friday</td>\n",
       "      <td>April</td>\n",
       "      <td>2016</td>\n",
       "      <td>16</td>\n",
       "      <td>8</td>\n",
       "      <td>27</td>\n",
       "      <td>Elderly</td>\n",
       "    </tr>\n",
       "    <tr>\n",
       "      <th>2</th>\n",
       "      <td>4.262962e+12</td>\n",
       "      <td>5642549</td>\n",
       "      <td>F</td>\n",
       "      <td>2016-04-29 16:19:04+00:00</td>\n",
       "      <td>2016-04-29 00:00:00+00:00</td>\n",
       "      <td>62</td>\n",
       "      <td>MATA DA PRAIA</td>\n",
       "      <td>0</td>\n",
       "      <td>0</td>\n",
       "      <td>0</td>\n",
       "      <td>...</td>\n",
       "      <td>Friday</td>\n",
       "      <td>April</td>\n",
       "      <td>2016</td>\n",
       "      <td>Friday</td>\n",
       "      <td>April</td>\n",
       "      <td>2016</td>\n",
       "      <td>16</td>\n",
       "      <td>19</td>\n",
       "      <td>4</td>\n",
       "      <td>Elderly</td>\n",
       "    </tr>\n",
       "    <tr>\n",
       "      <th>3</th>\n",
       "      <td>8.679512e+11</td>\n",
       "      <td>5642828</td>\n",
       "      <td>F</td>\n",
       "      <td>2016-04-29 17:29:31+00:00</td>\n",
       "      <td>2016-04-29 00:00:00+00:00</td>\n",
       "      <td>8</td>\n",
       "      <td>PONTAL DE CAMBURI</td>\n",
       "      <td>0</td>\n",
       "      <td>0</td>\n",
       "      <td>0</td>\n",
       "      <td>...</td>\n",
       "      <td>Friday</td>\n",
       "      <td>April</td>\n",
       "      <td>2016</td>\n",
       "      <td>Friday</td>\n",
       "      <td>April</td>\n",
       "      <td>2016</td>\n",
       "      <td>17</td>\n",
       "      <td>29</td>\n",
       "      <td>31</td>\n",
       "      <td>Teens</td>\n",
       "    </tr>\n",
       "    <tr>\n",
       "      <th>4</th>\n",
       "      <td>8.841186e+12</td>\n",
       "      <td>5642494</td>\n",
       "      <td>F</td>\n",
       "      <td>2016-04-29 16:07:23+00:00</td>\n",
       "      <td>2016-04-29 00:00:00+00:00</td>\n",
       "      <td>56</td>\n",
       "      <td>JARDIM DA PENHA</td>\n",
       "      <td>0</td>\n",
       "      <td>1</td>\n",
       "      <td>1</td>\n",
       "      <td>...</td>\n",
       "      <td>Friday</td>\n",
       "      <td>April</td>\n",
       "      <td>2016</td>\n",
       "      <td>Friday</td>\n",
       "      <td>April</td>\n",
       "      <td>2016</td>\n",
       "      <td>16</td>\n",
       "      <td>7</td>\n",
       "      <td>23</td>\n",
       "      <td>Elderly</td>\n",
       "    </tr>\n",
       "  </tbody>\n",
       "</table>\n",
       "<p>5 rows × 27 columns</p>\n",
       "</div>"
      ],
      "text/plain": [
       "      PatientID  AppointmentID Gender              ScheduledDay  \\\n",
       "0  2.987250e+13        5642903      F 2016-04-29 18:38:08+00:00   \n",
       "1  5.589978e+14        5642503      M 2016-04-29 16:08:27+00:00   \n",
       "2  4.262962e+12        5642549      F 2016-04-29 16:19:04+00:00   \n",
       "3  8.679512e+11        5642828      F 2016-04-29 17:29:31+00:00   \n",
       "4  8.841186e+12        5642494      F 2016-04-29 16:07:23+00:00   \n",
       "\n",
       "             AppointmentDay  Age      Neighbourhood  Scholarship  \\\n",
       "0 2016-04-29 00:00:00+00:00   62    JARDIM DA PENHA            0   \n",
       "1 2016-04-29 00:00:00+00:00   56    JARDIM DA PENHA            0   \n",
       "2 2016-04-29 00:00:00+00:00   62      MATA DA PRAIA            0   \n",
       "3 2016-04-29 00:00:00+00:00    8  PONTAL DE CAMBURI            0   \n",
       "4 2016-04-29 00:00:00+00:00   56    JARDIM DA PENHA            0   \n",
       "\n",
       "   Hypertension  Diabetes  ...  Scheduled_day  Scheduled_month  \\\n",
       "0             1         0  ...         Friday            April   \n",
       "1             0         0  ...         Friday            April   \n",
       "2             0         0  ...         Friday            April   \n",
       "3             0         0  ...         Friday            April   \n",
       "4             1         1  ...         Friday            April   \n",
       "\n",
       "   Scheduled_year Appointment_day Appointment_month Appointment_year  \\\n",
       "0            2016          Friday             April             2016   \n",
       "1            2016          Friday             April             2016   \n",
       "2            2016          Friday             April             2016   \n",
       "3            2016          Friday             April             2016   \n",
       "4            2016          Friday             April             2016   \n",
       "\n",
       "  Scheduledtime_hour Scheduledtime_min Scheduledtime_sec  Age_groups  \n",
       "0                 18                38                 8     Elderly  \n",
       "1                 16                 8                27     Elderly  \n",
       "2                 16                19                 4     Elderly  \n",
       "3                 17                29                31       Teens  \n",
       "4                 16                 7                23     Elderly  \n",
       "\n",
       "[5 rows x 27 columns]"
      ]
     },
     "execution_count": 66,
     "metadata": {},
     "output_type": "execute_result"
    }
   ],
   "source": [
    "# Grouping the ages\n",
    "bin_edges = [0, 18, 37, 55, 115]\n",
    "bin_names = ['Teens', 'Youth', 'Adult', 'Elderly']\n",
    "df['Age_groups'] = pd.cut(df['Age'], bin_edges, labels = bin_names)\n",
    "df.head()"
   ]
  },
  {
   "cell_type": "code",
   "execution_count": 67,
   "id": "e0378183",
   "metadata": {},
   "outputs": [],
   "source": [
    "#Dropping some columns to avoid multi collinearity\n",
    "df.drop(columns = ['ScheduledDay', 'AppointmentDay', 'Scheduled_date', 'Appointment_date', 'Age', 'Scheduled_time'], inplace = True)"
   ]
  },
  {
   "cell_type": "markdown",
   "id": "8d973364",
   "metadata": {},
   "source": [
    "### Which days of the week and which months did the patients showed up more?"
   ]
  },
  {
   "cell_type": "code",
   "execution_count": 68,
   "id": "2c2fad96",
   "metadata": {},
   "outputs": [
    {
     "data": {
      "text/html": [
       "<div>\n",
       "<style scoped>\n",
       "    .dataframe tbody tr th:only-of-type {\n",
       "        vertical-align: middle;\n",
       "    }\n",
       "\n",
       "    .dataframe tbody tr th {\n",
       "        vertical-align: top;\n",
       "    }\n",
       "\n",
       "    .dataframe thead th {\n",
       "        text-align: right;\n",
       "    }\n",
       "</style>\n",
       "<table border=\"1\" class=\"dataframe\">\n",
       "  <thead>\n",
       "    <tr style=\"text-align: right;\">\n",
       "      <th></th>\n",
       "      <th>PatientID</th>\n",
       "      <th>AppointmentID</th>\n",
       "      <th>Gender</th>\n",
       "      <th>Neighbourhood</th>\n",
       "      <th>Scholarship</th>\n",
       "      <th>Hypertension</th>\n",
       "      <th>Diabetes</th>\n",
       "      <th>Alcoholism</th>\n",
       "      <th>Handicap</th>\n",
       "      <th>SMS_received</th>\n",
       "      <th>...</th>\n",
       "      <th>Scheduled_day</th>\n",
       "      <th>Scheduled_month</th>\n",
       "      <th>Scheduled_year</th>\n",
       "      <th>Appointment_day</th>\n",
       "      <th>Appointment_month</th>\n",
       "      <th>Appointment_year</th>\n",
       "      <th>Scheduledtime_hour</th>\n",
       "      <th>Scheduledtime_min</th>\n",
       "      <th>Scheduledtime_sec</th>\n",
       "      <th>Age_groups</th>\n",
       "    </tr>\n",
       "  </thead>\n",
       "  <tbody>\n",
       "    <tr>\n",
       "      <th>0</th>\n",
       "      <td>2.987250e+13</td>\n",
       "      <td>5642903</td>\n",
       "      <td>F</td>\n",
       "      <td>JARDIM DA PENHA</td>\n",
       "      <td>0</td>\n",
       "      <td>1</td>\n",
       "      <td>0</td>\n",
       "      <td>0</td>\n",
       "      <td>0</td>\n",
       "      <td>0</td>\n",
       "      <td>...</td>\n",
       "      <td>Friday</td>\n",
       "      <td>April</td>\n",
       "      <td>2016</td>\n",
       "      <td>Friday</td>\n",
       "      <td>April</td>\n",
       "      <td>2016</td>\n",
       "      <td>18</td>\n",
       "      <td>38</td>\n",
       "      <td>8</td>\n",
       "      <td>Elderly</td>\n",
       "    </tr>\n",
       "    <tr>\n",
       "      <th>1</th>\n",
       "      <td>5.589978e+14</td>\n",
       "      <td>5642503</td>\n",
       "      <td>M</td>\n",
       "      <td>JARDIM DA PENHA</td>\n",
       "      <td>0</td>\n",
       "      <td>0</td>\n",
       "      <td>0</td>\n",
       "      <td>0</td>\n",
       "      <td>0</td>\n",
       "      <td>0</td>\n",
       "      <td>...</td>\n",
       "      <td>Friday</td>\n",
       "      <td>April</td>\n",
       "      <td>2016</td>\n",
       "      <td>Friday</td>\n",
       "      <td>April</td>\n",
       "      <td>2016</td>\n",
       "      <td>16</td>\n",
       "      <td>8</td>\n",
       "      <td>27</td>\n",
       "      <td>Elderly</td>\n",
       "    </tr>\n",
       "    <tr>\n",
       "      <th>2</th>\n",
       "      <td>4.262962e+12</td>\n",
       "      <td>5642549</td>\n",
       "      <td>F</td>\n",
       "      <td>MATA DA PRAIA</td>\n",
       "      <td>0</td>\n",
       "      <td>0</td>\n",
       "      <td>0</td>\n",
       "      <td>0</td>\n",
       "      <td>0</td>\n",
       "      <td>0</td>\n",
       "      <td>...</td>\n",
       "      <td>Friday</td>\n",
       "      <td>April</td>\n",
       "      <td>2016</td>\n",
       "      <td>Friday</td>\n",
       "      <td>April</td>\n",
       "      <td>2016</td>\n",
       "      <td>16</td>\n",
       "      <td>19</td>\n",
       "      <td>4</td>\n",
       "      <td>Elderly</td>\n",
       "    </tr>\n",
       "    <tr>\n",
       "      <th>3</th>\n",
       "      <td>8.679512e+11</td>\n",
       "      <td>5642828</td>\n",
       "      <td>F</td>\n",
       "      <td>PONTAL DE CAMBURI</td>\n",
       "      <td>0</td>\n",
       "      <td>0</td>\n",
       "      <td>0</td>\n",
       "      <td>0</td>\n",
       "      <td>0</td>\n",
       "      <td>0</td>\n",
       "      <td>...</td>\n",
       "      <td>Friday</td>\n",
       "      <td>April</td>\n",
       "      <td>2016</td>\n",
       "      <td>Friday</td>\n",
       "      <td>April</td>\n",
       "      <td>2016</td>\n",
       "      <td>17</td>\n",
       "      <td>29</td>\n",
       "      <td>31</td>\n",
       "      <td>Teens</td>\n",
       "    </tr>\n",
       "    <tr>\n",
       "      <th>4</th>\n",
       "      <td>8.841186e+12</td>\n",
       "      <td>5642494</td>\n",
       "      <td>F</td>\n",
       "      <td>JARDIM DA PENHA</td>\n",
       "      <td>0</td>\n",
       "      <td>1</td>\n",
       "      <td>1</td>\n",
       "      <td>0</td>\n",
       "      <td>0</td>\n",
       "      <td>0</td>\n",
       "      <td>...</td>\n",
       "      <td>Friday</td>\n",
       "      <td>April</td>\n",
       "      <td>2016</td>\n",
       "      <td>Friday</td>\n",
       "      <td>April</td>\n",
       "      <td>2016</td>\n",
       "      <td>16</td>\n",
       "      <td>7</td>\n",
       "      <td>23</td>\n",
       "      <td>Elderly</td>\n",
       "    </tr>\n",
       "  </tbody>\n",
       "</table>\n",
       "<p>5 rows × 21 columns</p>\n",
       "</div>"
      ],
      "text/plain": [
       "      PatientID  AppointmentID Gender      Neighbourhood  Scholarship  \\\n",
       "0  2.987250e+13        5642903      F    JARDIM DA PENHA            0   \n",
       "1  5.589978e+14        5642503      M    JARDIM DA PENHA            0   \n",
       "2  4.262962e+12        5642549      F      MATA DA PRAIA            0   \n",
       "3  8.679512e+11        5642828      F  PONTAL DE CAMBURI            0   \n",
       "4  8.841186e+12        5642494      F    JARDIM DA PENHA            0   \n",
       "\n",
       "   Hypertension  Diabetes  Alcoholism  Handicap  SMS_received  ...  \\\n",
       "0             1         0           0         0             0  ...   \n",
       "1             0         0           0         0             0  ...   \n",
       "2             0         0           0         0             0  ...   \n",
       "3             0         0           0         0             0  ...   \n",
       "4             1         1           0         0             0  ...   \n",
       "\n",
       "  Scheduled_day Scheduled_month Scheduled_year  Appointment_day  \\\n",
       "0        Friday           April           2016           Friday   \n",
       "1        Friday           April           2016           Friday   \n",
       "2        Friday           April           2016           Friday   \n",
       "3        Friday           April           2016           Friday   \n",
       "4        Friday           April           2016           Friday   \n",
       "\n",
       "  Appointment_month Appointment_year  Scheduledtime_hour  Scheduledtime_min  \\\n",
       "0             April             2016                  18                 38   \n",
       "1             April             2016                  16                  8   \n",
       "2             April             2016                  16                 19   \n",
       "3             April             2016                  17                 29   \n",
       "4             April             2016                  16                  7   \n",
       "\n",
       "   Scheduledtime_sec  Age_groups  \n",
       "0                  8     Elderly  \n",
       "1                 27     Elderly  \n",
       "2                  4     Elderly  \n",
       "3                 31       Teens  \n",
       "4                 23     Elderly  \n",
       "\n",
       "[5 rows x 21 columns]"
      ]
     },
     "execution_count": 68,
     "metadata": {},
     "output_type": "execute_result"
    }
   ],
   "source": [
    "#Taking the subset of the dataset where the patients showed up for their appointments.\n",
    "showed_up = df[df['No_show'] == 'Present']\n",
    "showed_up.head()"
   ]
  },
  {
   "cell_type": "code",
   "execution_count": 69,
   "id": "f98d287b",
   "metadata": {},
   "outputs": [
    {
     "data": {
      "image/png": "[encoded data removed]",
      "text/plain": [
       "<Figure size 504x504 with 1 Axes>"
      ]
     },
     "metadata": {
      "needs_background": "light"
     },
     "output_type": "display_data"
    }
   ],
   "source": [
    "# Defining a function for proportions calculation\n",
    "\n",
    "def proportion(counts, total):\n",
    "    proportions = counts / total\n",
    "    return proportions\n",
    "\n",
    "# Defining a function for the bar plots\n",
    "def plot_kind(df_1, kind_type, XLABEL, YLABEL, TITLE):\n",
    "    df_1.plot(kind = kind_type, subplots = False, figsize = (7,7), alpha = .7)\n",
    "    plt.xlabel(XLABEL)\n",
    "    plt.ylabel(YLABEL)\n",
    "    plt.title(TITLE)\n",
    "    plt.show();\n",
    "    \n",
    "count_day = showed_up.Appointment_day.value_counts()\n",
    "total_day = df.Appointment_day.value_counts()\n",
    "plot_kind(proportion(count_day, total_day), 'bar', 'Days of the week', 'Proportions', 'DISTRIBUTION OF THE DAYS OF THE WEEK')"
   ]
  },
  {
   "cell_type": "markdown",
   "id": "a704d4c3",
   "metadata": {},
   "source": [
    "> This barchart is to determine which of the days the patients showed up more."
   ]
  },
  {
   "cell_type": "code",
   "execution_count": 70,
   "id": "505a7fde",
   "metadata": {},
   "outputs": [
    {
     "data": {
      "image/png": "[encoded data removed]",
      "text/plain": [
       "<Figure size 504x504 with 1 Axes>"
      ]
     },
     "metadata": {
      "needs_background": "light"
     },
     "output_type": "display_data"
    }
   ],
   "source": [
    "count_month = showed_up.Appointment_month.value_counts()\n",
    "total_month = df.Appointment_month.value_counts()\n",
    "plot_kind(proportion(count_month, total_month), 'barh', 'Proportions', 'Month', 'DISTRIBUTION OF THE MONTHS')"
   ]
  },
  {
   "cell_type": "markdown",
   "id": "33469728",
   "metadata": {},
   "source": [
    "> This chart is to determine which of the months did the patients showed up more appointments"
   ]
  },
  {
   "cell_type": "markdown",
   "id": "725b401f",
   "metadata": {},
   "source": [
    "### Is showing up for appointments dependent on SMS? "
   ]
  },
  {
   "cell_type": "code",
   "execution_count": 71,
   "id": "3fb30e4b",
   "metadata": {},
   "outputs": [
    {
     "data": {
      "image/png": "[encoded data removed]",
      "text/plain": [
       "<Figure size 504x504 with 1 Axes>"
      ]
     },
     "metadata": {
      "needs_background": "light"
     },
     "output_type": "display_data"
    }
   ],
   "source": [
    "reminder_counts = showed_up.groupby(['No_show', 'SMS_received']).count()['Gender']\n",
    "reminder_total = df.groupby('No_show').count()['Gender']\n",
    "plot_kind(proportion(reminder_counts, reminder_total), 'bar', 'SMS_received and No_show', 'Proportions', 'Proportion by SMS Received and No_show')"
   ]
  },
  {
   "cell_type": "markdown",
   "id": "99ba0644",
   "metadata": {},
   "source": [
    "> This chart is to determine if sending an SMS is dependent on patients showing up for their appointments."
   ]
  },
  {
   "cell_type": "markdown",
   "id": "484da954",
   "metadata": {},
   "source": [
    "### Which hospital do patients visit the most for thier appointments?"
   ]
  },
  {
   "cell_type": "code",
   "execution_count": 72,
   "id": "2ce4165a",
   "metadata": {},
   "outputs": [
    {
     "data": {
      "image/png": "[encoded data removed]",
      "text/plain": [
       "<Figure size 504x504 with 1 Axes>"
      ]
     },
     "metadata": {
      "needs_background": "light"
     },
     "output_type": "display_data"
    }
   ],
   "source": [
    "hospital_df = showed_up['Neighbourhood'].value_counts(sort = True).head(10)\n",
    "plot_kind(hospital_df, 'barh', 'Counts', 'Hospital Neighbourhoods', 'PIE CHART DISTRIBUTION OF HOSPITAL NEIGHBOURHOODS')"
   ]
  },
  {
   "cell_type": "markdown",
   "id": "1420420a",
   "metadata": {},
   "source": [
    "> This chart is to determine the hospitlas patients visit the most for their appointments"
   ]
  },
  {
   "cell_type": "markdown",
   "id": "94b3f537",
   "metadata": {},
   "source": [
    " ### Which days do patients on scholarship showed up the least for their appointment?"
   ]
  },
  {
   "cell_type": "code",
   "execution_count": 73,
   "id": "ff9d81bb",
   "metadata": {},
   "outputs": [
    {
     "data": {
      "image/png": "[encoded data removed]",
      "text/plain": [
       "<Figure size 504x504 with 1 Axes>"
      ]
     },
     "metadata": {
      "needs_background": "light"
     },
     "output_type": "display_data"
    }
   ],
   "source": [
    "scholarship_df = showed_up.query('Scholarship == 1')\n",
    "week_counts = scholarship_df.Appointment_day.value_counts(sort = True)\n",
    "plot_kind(week_counts, 'barh', 'Days of the week', 'Proportions', 'Proportion by SMS Received and No_show')"
   ]
  },
  {
   "cell_type": "markdown",
   "id": "14221448",
   "metadata": {},
   "source": [
    "> This barchart is to determine the days which patients on scholarship showed up the least for their appointments."
   ]
  },
  {
   "cell_type": "markdown",
   "id": "c24b77aa",
   "metadata": {},
   "source": [
    "### Which age category showed up for thier appointments the most?"
   ]
  },
  {
   "cell_type": "code",
   "execution_count": 74,
   "id": "835de37d",
   "metadata": {},
   "outputs": [
    {
     "data": {
      "image/png": "[encoded data removed]",
      "text/plain": [
       "<Figure size 504x504 with 1 Axes>"
      ]
     },
     "metadata": {},
     "output_type": "display_data"
    }
   ],
   "source": [
    "# Defining a function for the pie plots\n",
    "\n",
    "def plot_pie(df_1, kind_type, YLABEL, TITLE):\n",
    "    df_1.plot(kind = kind_type, subplots = False, figsize = (7,7), autopct='%1.1f%%')\n",
    "    plt.title(TITLE)\n",
    "    plt.ylabel(YLABEL)\n",
    "    plt.show();\n",
    "    \n",
    "age_df = showed_up.groupby('Age_groups').size()\n",
    "plot_pie(age_df, 'pie', '', 'PIE CHART DISTRIBUTION OF PATIENTS AGE GROUPS THAT SHOWED UP FOR THEIR APPOINTMENTS')  "
   ]
  },
  {
   "cell_type": "markdown",
   "id": "e5a45184",
   "metadata": {},
   "source": [
    "> This pie chart shows the distribution of patients age groups that showed up for thier appointment. "
   ]
  },
  {
   "cell_type": "markdown",
   "id": "4f8b0c09",
   "metadata": {},
   "source": [
    "### Is showing up for appointments dependent on gender?"
   ]
  },
  {
   "cell_type": "code",
   "execution_count": 75,
   "id": "75e4d0a3",
   "metadata": {},
   "outputs": [
    {
     "data": {
      "image/png": "[encoded data removed]",
      "text/plain": [
       "<Figure size 504x504 with 1 Axes>"
      ]
     },
     "metadata": {},
     "output_type": "display_data"
    }
   ],
   "source": [
    "gender_counts = showed_up.groupby(['Gender']).count()['Hypertension']\n",
    "gender_total = df.groupby('Gender').count()['Hypertension']\n",
    "plot_pie(proportion(gender_counts, gender_total), 'pie', '', 'Proportion by Gender and No_show')  "
   ]
  },
  {
   "cell_type": "markdown",
   "id": "923e270d",
   "metadata": {},
   "source": [
    "> This pie chart is to determine if showing up for appointments is dependent on gender"
   ]
  },
  {
   "cell_type": "markdown",
   "id": "4c20c803",
   "metadata": {},
   "source": [
    "### What's the percentage of patients who scheduled and showed up for their appointments on the same day?"
   ]
  },
  {
   "cell_type": "code",
   "execution_count": 76,
   "id": "865b48d8",
   "metadata": {},
   "outputs": [
    {
     "data": {
      "image/png": "[encoded data removed]",
      "text/plain": [
       "<Figure size 504x504 with 1 Axes>"
      ]
     },
     "metadata": {},
     "output_type": "display_data"
    }
   ],
   "source": [
    "schedule_appointment_day = df.query(\"Scheduled_day == Appointment_day\")\n",
    "schedule_appointment_day_df = schedule_appointment_day.No_show.value_counts(normalize = True)\n",
    "plot_pie(schedule_appointment_day_df, 'pie', '', 'Percentage of patients that showed up for their appointments')  "
   ]
  },
  {
   "cell_type": "markdown",
   "id": "70884689",
   "metadata": {},
   "source": [
    "> This pie chart is to determine the percentage of patients who showed up for thier appointment on the scheduled day."
   ]
  },
  {
   "cell_type": "markdown",
   "id": "14b58f4d",
   "metadata": {},
   "source": [
    "## Conclusions"
   ]
  },
  {
   "cell_type": "markdown",
   "id": "fcd49507",
   "metadata": {},
   "source": [
    "> After I have investigated, accessed , did the neccessary data cleaning by replacing incorrect column names, removing invalid entries, replaced mismatched values and also carried out exploratoty data analysis on the no show appointment dataset by plotting different charts, below are my conclusions from the dataset.\n",
    "\n",
    "- There are less patients enrolled in the Brasillian wellfare (that is there are less patients on scholarships.\n",
    "- There are less patients suffering from hypertension and diabetes.\n",
    "- There are very few patients that takes alcohol.\n",
    "- There are very few patients who are handicaped.\n",
    "- Patients who did not recieve an SMS are more than those who did not recieve an SMS.\n",
    "- Patients who showed up for thier appointment are more than those who did not show up for thier appointment.\n",
    "- Patients showed up more on Thursday and in the month of June.\n",
    "- Showing up for appointment is not dependent on sending an sms to patients.\n",
    "- Patients visit hospitals in Jardim Camburi and Maria Ortiz neighbourhood the most for thier appointments.\n",
    "- Patients on scholarship showed up least for their appointments on Thursday and Saturday.\n",
    "- The elderly age group (that is 55 years and above) showed up for their appointment the most with a percentage of 27.2%\n",
    "- Showing up for appointment is not dependent on gender.\n",
    "- Most of the patients showed up for thier appointment at the scheduled day."
   ]
  },
  {
   "cell_type": "markdown",
   "id": "08e3f507",
   "metadata": {},
   "source": [
    "## Limitations"
   ]
  },
  {
   "cell_type": "markdown",
   "id": "6bdd5dc8",
   "metadata": {},
   "source": [
    "> Reasons why patients did not show up for their appointments was not included in the dataset, so further I can't carry out further analysis on that."
   ]
  }
 ],
 "metadata": {
  "kernelspec": {
   "display_name": "Python 3 (ipykernel)",
   "language": "python",
   "name": "python3"
  },
  "language_info": {
   "codemirror_mode": {
    "name": "ipython",
    "version": 3
   },
   "file_extension": ".py",
   "mimetype": "text/x-python",
   "name": "python",
   "nbconvert_exporter": "python",
   "pygments_lexer": "ipython3",
   "version": "3.9.7"
  }
 },
 "nbformat": 4,
 "nbformat_minor": 5
}
